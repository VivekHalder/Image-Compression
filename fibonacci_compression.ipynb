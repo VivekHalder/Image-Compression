{
 "cells": [
  {
   "cell_type": "code",
   "execution_count": 23,
   "metadata": {},
   "outputs": [
    {
     "name": "stdout",
     "output_type": "stream",
     "text": [
      "Imports complete.\n"
     ]
    }
   ],
   "source": [
    "import cv2\n",
    "import numpy as np\n",
    "from collections import Counter\n",
    "import os\n",
    "\n",
    "print(\"Imports complete.\")\n"
   ]
  },
  {
   "cell_type": "code",
   "execution_count": 24,
   "metadata": {},
   "outputs": [
    {
     "name": "stdout",
     "output_type": "stream",
     "text": [
      "Fibonacci coding function defined.\n"
     ]
    }
   ],
   "source": [
    "# ---------------------------\n",
    "# Fibonacci Code for a Rank\n",
    "# ---------------------------\n",
    "def fib_code_for_rank(r):\n",
    "    \"\"\"\n",
    "    Compute the Fibonacci code for an integer 'r' (r >= 1) using a Fibonacci numeral system.\n",
    "    Expected examples:\n",
    "      Rank 1 -> \"11\"\n",
    "      Rank 2 -> \"011\"\n",
    "      Rank 3 -> \"0011\"\n",
    "      Rank 4 -> \"1011\"\n",
    "      Rank 5 -> \"00011\"\n",
    "      Rank 6 -> \"10011\"\n",
    "      etc.\n",
    "    This implementation builds a Fibonacci sequence and creates a code based on a greedy (Zeckendorf) representation.\n",
    "    \"\"\"\n",
    "    if r < 1:\n",
    "        raise ValueError(\"Rank must be >= 1\")\n",
    "    \n",
    "    # Generate Fibonacci numbers (starting with 1, 2, 3, 5, ...)\n",
    "    fibs = [1, 2]\n",
    "    while fibs[-1] < r:\n",
    "        fibs.append(fibs[-1] + fibs[-2])\n",
    "    \n",
    "    # Build the Fibonacci representation (greedy algorithm)\n",
    "    code_bits = []\n",
    "    remaining = r\n",
    "    for f in reversed(fibs):\n",
    "        if remaining >= f:\n",
    "            code_bits.append('1')\n",
    "            remaining -= f\n",
    "        else:\n",
    "            if code_bits:  # Only add zeros after the first '1'\n",
    "                code_bits.append('0')\n",
    "    \n",
    "    # Reverse the bits so that the code is read from smallest Fibonacci number upward\n",
    "    code_str = ''.join(code_bits)[::-1]\n",
    "    \n",
    "    # Pad with zeros so the length equals the number of Fibonacci numbers used\n",
    "    code_str = code_str.zfill(len(fibs))\n",
    "    \n",
    "    # Append the termination marker \"1\"\n",
    "    code_str += \"1\"\n",
    "    return code_str\n",
    "\n",
    "print(\"Fibonacci coding function defined.\")\n"
   ]
  },
  {
   "cell_type": "code",
   "execution_count": 25,
   "metadata": {},
   "outputs": [
    {
     "name": "stdout",
     "output_type": "stream",
     "text": [
      "Frequency and code mapping functions defined.\n"
     ]
    }
   ],
   "source": [
    "# ---------------------------\n",
    "# Frequency and Code Mapping Functions\n",
    "# ---------------------------\n",
    "def get_frequency_table(image):\n",
    "    \"\"\"\n",
    "    Given a single-channel image (numpy array), compute the frequency distribution\n",
    "    of pixel values. Returns a dictionary {pixel_value: frequency}.\n",
    "    \"\"\"\n",
    "    pixels = image.flatten()\n",
    "    return dict(Counter(pixels))\n",
    "\n",
    "def get_code_mapping(freq_table):\n",
    "    \"\"\"\n",
    "    Given a frequency table (dictionary), sort the pixel values by frequency (descending)\n",
    "    and assign a Fibonacci code based on ranking (starting with rank 1).\n",
    "    Returns a tuple (code_mapping, sorted_items) where:\n",
    "      - code_mapping is a dictionary {pixel_value: fibonacci_code}\n",
    "      - sorted_items is a list of (pixel, frequency) tuples sorted in descending order.\n",
    "    \"\"\"\n",
    "    sorted_items = sorted(freq_table.items(), key=lambda x: (-x[1], x[0]))\n",
    "    code_mapping = {}\n",
    "    for rank, (pixel, _) in enumerate(sorted_items, start=1):\n",
    "        code_mapping[pixel] = fib_code_for_rank(rank)\n",
    "    return code_mapping, sorted_items\n",
    "\n",
    "print(\"Frequency and code mapping functions defined.\")\n"
   ]
  },
  {
   "cell_type": "code",
   "execution_count": 26,
   "metadata": {},
   "outputs": [
    {
     "name": "stdout",
     "output_type": "stream",
     "text": [
      "Compression and decompression functions defined.\n"
     ]
    }
   ],
   "source": [
    "# ---------------------------\n",
    "# Compression and Decompression Functions\n",
    "# ---------------------------\n",
    "def compress_image(image, code_mapping):\n",
    "    \"\"\"\n",
    "    Compress a 2D image (single-channel) by replacing each pixel with its corresponding Fibonacci code.\n",
    "    Returns the compressed bitstream (a string).\n",
    "    \"\"\"\n",
    "    pixels = image.flatten()\n",
    "    bitstream = \"\".join(code_mapping[p] for p in pixels)\n",
    "    return bitstream\n",
    "\n",
    "def decompress_image(bitstream, code_mapping, image_shape):\n",
    "    \"\"\"\n",
    "    Decompress a bitstream using the provided code mapping.\n",
    "    (This function is defined for completeness but will not be used to save any image.)\n",
    "    Returns the decompressed image (numpy array) with shape image_shape.\n",
    "    \"\"\"\n",
    "    # Create reverse mapping: code -> pixel value\n",
    "    reverse_mapping = {v: k for k, v in code_mapping.items()}\n",
    "    decoded_pixels = []\n",
    "    buffer = \"\"\n",
    "    for bit in bitstream:\n",
    "        buffer += bit\n",
    "        if buffer in reverse_mapping:\n",
    "            decoded_pixels.append(reverse_mapping[buffer])\n",
    "            buffer = \"\"\n",
    "    return np.array(decoded_pixels, dtype=np.uint8).reshape(image_shape)\n",
    "\n",
    "print(\"Compression and decompression functions defined.\")\n"
   ]
  },
  {
   "cell_type": "code",
   "execution_count": 27,
   "metadata": {},
   "outputs": [
    {
     "name": "stdout",
     "output_type": "stream",
     "text": [
      "Compression function defined (with fallback to original representation if needed).\n"
     ]
    }
   ],
   "source": [
    "# ---------------------------\n",
    "# Compression Function with Fallback\n",
    "# ---------------------------\n",
    "def compress_image(image, code_mapping):\n",
    "    \"\"\"\n",
    "    Compress a 2D image (single-channel) by replacing each pixel with its corresponding Fibonacci code.\n",
    "    Returns the compressed bitstream (a string).\n",
    "    \"\"\"\n",
    "    pixels = image.flatten()\n",
    "    bitstream = \"\".join(code_mapping[p] for p in pixels)\n",
    "    \n",
    "    # Calculate original size in bits (8 bits per pixel)\n",
    "    original_bits = image.size * 8\n",
    "    # If the compressed bitstream is longer than original, use original 8-bit binary representation.\n",
    "    if len(bitstream) > original_bits:\n",
    "        bitstream = \"\".join(format(p, '08b') for p in pixels)\n",
    "    return bitstream\n",
    "\n",
    "# (We define decompress_image for completeness, though it is not used to output an image.)\n",
    "def decompress_image(bitstream, code_mapping, image_shape):\n",
    "    \"\"\"\n",
    "    Decompress a bitstream using the provided code mapping.\n",
    "    Returns the decompressed image (numpy array) with shape image_shape.\n",
    "    \"\"\"\n",
    "    reverse_mapping = {v: k for k, v in code_mapping.items()}\n",
    "    decoded_pixels = []\n",
    "    buffer = \"\"\n",
    "    for bit in bitstream:\n",
    "        buffer += bit\n",
    "        if buffer in reverse_mapping:\n",
    "            decoded_pixels.append(reverse_mapping[buffer])\n",
    "            buffer = \"\"\n",
    "    return np.array(decoded_pixels, dtype=np.uint8).reshape(image_shape)\n",
    "\n",
    "print(\"Compression function defined (with fallback to original representation if needed).\")\n"
   ]
  },
  {
   "cell_type": "code",
   "execution_count": 28,
   "metadata": {},
   "outputs": [
    {
     "name": "stdout",
     "output_type": "stream",
     "text": [
      "Processing functions defined.\n"
     ]
    }
   ],
   "source": [
    "# ---------------------------\n",
    "# Processing Functions for Compression Statistics (No Decompressed Image Saving)\n",
    "# ---------------------------\n",
    "def process_single_channel_image(image_path, mode_label):\n",
    "    \"\"\"\n",
    "    Process a single-channel image (for BNW or Grayscale).\n",
    "    - Loads the image.\n",
    "    - Computes frequency table.\n",
    "    - Creates code mapping (Fibonacci codes) based on ranking.\n",
    "    - Compresses the image into a bitstream (with fallback if needed).\n",
    "    - Returns compression statistics in a dictionary.\n",
    "    \"\"\"\n",
    "    image = cv2.imread(image_path, cv2.IMREAD_GRAYSCALE)\n",
    "    if image is None:\n",
    "        print(f\"Error: Could not load {image_path}\")\n",
    "        return None\n",
    "    \n",
    "    freq_table = get_frequency_table(image)\n",
    "    code_mapping, sorted_items = get_code_mapping(freq_table)\n",
    "    bitstream = compress_image(image, code_mapping)\n",
    "    \n",
    "    original_bits = image.size * 8  # 8 bits per pixel\n",
    "    compressed_bits = len(bitstream)\n",
    "    compression_ratio = compressed_bits / original_bits\n",
    "    space_saved = 100 * (1 - compression_ratio)\n",
    "    \n",
    "    return {\n",
    "        \"Image Name\": os.path.basename(image_path),\n",
    "        \"Type\": mode_label,\n",
    "        \"Original Size (bits)\": original_bits,\n",
    "        \"Compressed Size (bits)\": compressed_bits,\n",
    "        \"Compression Ratio\": compression_ratio,\n",
    "        \"Space Saved (%)\": space_saved\n",
    "    }\n",
    "\n",
    "def process_color_image(image_path):\n",
    "    \"\"\"\n",
    "    Process a color image (BGR) by splitting into channels and compressing each channel separately.\n",
    "    Returns overall compression statistics for the color image.\n",
    "    \"\"\"\n",
    "    image = cv2.imread(image_path, cv2.IMREAD_COLOR)\n",
    "    if image is None:\n",
    "        print(f\"Error: Could not load {image_path}\")\n",
    "        return None\n",
    "    channels = cv2.split(image)\n",
    "    overall_original = image.size * 8  # total bits (all channels)\n",
    "    overall_compressed = 0\n",
    "    \n",
    "    # Process each channel\n",
    "    for channel in channels:\n",
    "        freq_table = get_frequency_table(channel)\n",
    "        code_mapping, _ = get_code_mapping(freq_table)\n",
    "        bitstream = compress_image(channel, code_mapping)\n",
    "        overall_compressed += len(bitstream)\n",
    "    \n",
    "    compression_ratio = overall_compressed / overall_original\n",
    "    space_saved = 100 * (1 - compression_ratio)\n",
    "    \n",
    "    return {\n",
    "        \"Image Name\": os.path.basename(image_path),\n",
    "        \"Type\": \"Color\",\n",
    "        \"Original Size (bits)\": overall_original,\n",
    "        \"Compressed Size (bits)\": overall_compressed,\n",
    "        \"Compression Ratio\": compression_ratio,\n",
    "        \"Space Saved (%)\": space_saved\n",
    "    }\n",
    "\n",
    "print(\"Processing functions defined.\")\n"
   ]
  },
  {
   "cell_type": "code",
   "execution_count": 29,
   "metadata": {},
   "outputs": [
    {
     "name": "stdout",
     "output_type": "stream",
     "text": [
      "Image Name           Type                      Original Size (bits)    Compressed Size (bits)    Compression Ratio      Space Saved (%)\n",
      "------------------------------------------------------------------------------------------------------------------------------------------------------\n",
      "bnw200.jpg           Black and White                        8388608                   6270069                 0.75                25.25\n",
      "bnw300.jpg           Black and White                         720000                    432551                 0.60                39.92\n",
      "gs50.jpg             Grayscale                                20000                     20000                 1.00                 0.00\n",
      "gs100.jpg            Grayscale                                80000                     80000                 1.00                 0.00\n",
      "color400.jpg         Color                                  3840000                   3840000                 1.00                 0.00\n",
      "color500.jpg         Color                                  5625504                   5208283                 0.93                 7.42\n"
     ]
    }
   ],
   "source": [
    "# ---------------------------\n",
    "# Main Processing: Compute Compression Statistics and Display Results Table\n",
    "# ---------------------------\n",
    "# Define arrays of image paths (update the paths as needed)\n",
    "bnw_images = [\n",
    "    r\"C:\\Users\\user\\Desktop\\Image Compression\\media\\bnw200.jpg\",\n",
    "    r\"C:\\Users\\user\\Desktop\\Image Compression\\media\\bnw300.jpg\"\n",
    "]\n",
    "\n",
    "grayscale_images = [\n",
    "    r\"C:\\Users\\user\\Desktop\\Image Compression\\media\\gs50.jpg\",\n",
    "    r\"C:\\Users\\user\\Desktop\\Image Compression\\media\\gs100.jpg\"\n",
    "]\n",
    "\n",
    "color_images = [\n",
    "    r\"C:\\Users\\user\\Desktop\\Image Compression\\media\\color400.jpg\",\n",
    "    r\"C:\\Users\\user\\Desktop\\Image Compression\\media\\color500.jpg\"\n",
    "]\n",
    "\n",
    "# Process images and collect statistics\n",
    "stats = []\n",
    "for path in bnw_images:\n",
    "    res = process_single_channel_image(path, \"Black and White\")\n",
    "    if res:\n",
    "        stats.append(res)\n",
    "for path in grayscale_images:\n",
    "    res = process_single_channel_image(path, \"Grayscale\")\n",
    "    if res:\n",
    "        stats.append(res)\n",
    "for path in color_images:\n",
    "    res = process_color_image(path)\n",
    "    if res:\n",
    "        stats.append(res)\n",
    "\n",
    "# Print table header\n",
    "print(\"{:<20} {:<25} {:>20} {:>25} {:>20} {:>20}\".format(\n",
    "    \"Image Name\", \"Type\", \"Original Size (bits)\", \"Compressed Size (bits)\",\n",
    "    \"Compression Ratio\", \"Space Saved (%)\"))\n",
    "print(\"-\" * 150)\n",
    "\n",
    "# Print each row of statistics\n",
    "for stat in stats:\n",
    "    print(\"{:<20} {:<25} {:>20} {:>25} {:>20.2f} {:>20.2f}\".format(\n",
    "        stat[\"Image Name\"],\n",
    "        stat[\"Type\"],\n",
    "        stat[\"Original Size (bits)\"],\n",
    "        stat[\"Compressed Size (bits)\"],\n",
    "        stat[\"Compression Ratio\"],\n",
    "        stat[\"Space Saved (%)\"]\n",
    "    ))\n"
   ]
  },
  {
   "cell_type": "code",
   "execution_count": null,
   "metadata": {},
   "outputs": [],
   "source": []
  }
 ],
 "metadata": {
  "kernelspec": {
   "display_name": "Python 3",
   "language": "python",
   "name": "python3"
  },
  "language_info": {
   "codemirror_mode": {
    "name": "ipython",
    "version": 3
   },
   "file_extension": ".py",
   "mimetype": "text/x-python",
   "name": "python",
   "nbconvert_exporter": "python",
   "pygments_lexer": "ipython3",
   "version": "3.12.5"
  }
 },
 "nbformat": 4,
 "nbformat_minor": 2
}
