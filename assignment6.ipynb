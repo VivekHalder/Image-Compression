{
 "cells": [
  {
   "cell_type": "code",
   "execution_count": 2,
   "metadata": {},
   "outputs": [],
   "source": [
    "import cv2\n",
    "import numpy as np"
   ]
  },
  {
   "cell_type": "code",
   "execution_count": 3,
   "metadata": {},
   "outputs": [],
   "source": [
    "BNW1=r\"C:\\Users\\user\\Desktop\\Image Compression\\media\\bnw200.jpg\"\n",
    "BNW2=r\"C:\\Users\\user\\Desktop\\Image Compression\\media\\bnw300.jpg\"\n",
    "\n",
    "C1=r\"C:\\Users\\user\\Desktop\\Image Compression\\media\\color-400.jpeg\"\n",
    "C2=r\"C:\\Users\\user\\Desktop\\Image Compression\\media\\color500.jpg\"\n",
    "\n",
    "GS1=r\"C:\\Users\\user\\Desktop\\Image Compression\\media\\grayscale1-50.jpeg\"\n",
    "GS2=r\"C:\\Users\\user\\Desktop\\Image Compression\\media\\grayscale2-100.jpeg\""
   ]
  },
  {
   "cell_type": "code",
   "execution_count": 4,
   "metadata": {},
   "outputs": [],
   "source": [
    "def run_length_encoding(pixels):\n",
    "    \"\"\"Apply RLE to a 1D array of pixel values with special handling for low-frequency pixels.\"\"\"\n",
    "    rle = []\n",
    "    prev_pixel = pixels[0]\n",
    "    count = 1\n",
    "\n",
    "    for i in range(1, len(pixels)):\n",
    "        if pixels[i] == prev_pixel:\n",
    "            count += 1\n",
    "        else:\n",
    "            # If frequency ≤ 2, store pixels separately\n",
    "            if count <= 2:\n",
    "                rle.extend([prev_pixel] * count)\n",
    "            else:\n",
    "                rle.append((prev_pixel, count))\n",
    "\n",
    "            prev_pixel = pixels[i]\n",
    "            count = 1\n",
    "\n",
    "    # Append the last pixel info\n",
    "    if count <= 2:\n",
    "        rle.extend([prev_pixel] * count)\n",
    "    else:\n",
    "        rle.append((prev_pixel, count))\n",
    "\n",
    "    return rle"
   ]
  },
  {
   "cell_type": "code",
   "execution_count": 5,
   "metadata": {},
   "outputs": [],
   "source": [
    "def calculate_compression_ratio(original_size, compressed_size):\n",
    "    \"\"\"Compute the compression ratio.\"\"\"\n",
    "    return original_size / compressed_size if compressed_size > 0 else float('inf')"
   ]
  },
  {
   "cell_type": "code",
   "execution_count": 6,
   "metadata": {},
   "outputs": [],
   "source": [
    "def process_grayscale_image(image_path):\n",
    "    \"\"\"Process a grayscale image using RLE and compute compression ratio.\"\"\"\n",
    "    img = cv2.imread(image_path, cv2.IMREAD_GRAYSCALE)  # Load as grayscale\n",
    "    if img is None:\n",
    "        print(f\"Error: Could not load {image_path}\")\n",
    "        return\n",
    "\n",
    "    pixels = img.flatten()  # Convert to 1D array\n",
    "    rle_result = run_length_encoding(pixels)\n",
    "\n",
    "    # Compute compression ratio\n",
    "    original_size = pixels.size\n",
    "    compressed_size = len(rle_result)\n",
    "    compression_ratio = calculate_compression_ratio(original_size, compressed_size)\n",
    "\n",
    "    # Print results\n",
    "    print(f\"\\n🔹 Grayscale Image: {image_path}\")\n",
    "    print(f\"  Original Size: {original_size} pixels\")\n",
    "    print(f\"  Compressed Size: {compressed_size} RLE elements\")\n",
    "    print(f\"  Compression Ratio: {compression_ratio:.2f}\")"
   ]
  },
  {
   "cell_type": "code",
   "execution_count": 7,
   "metadata": {},
   "outputs": [],
   "source": [
    "def process_bw_image(image_path):\n",
    "    \"\"\"Process a black & white (binary) image using RLE.\"\"\"\n",
    "    img = cv2.imread(image_path, cv2.IMREAD_GRAYSCALE)  # Load as grayscale\n",
    "    if img is None:\n",
    "        print(f\"Error: Could not load {image_path}\")\n",
    "        return\n",
    "\n",
    "    # Convert grayscale to pure black & white (thresholding)\n",
    "    _, binary_img = cv2.threshold(img, 127, 255, cv2.THRESH_BINARY)\n",
    "\n",
    "    pixels = binary_img.flatten()\n",
    "    rle_result = run_length_encoding(pixels)\n",
    "\n",
    "    # Compute compression ratio\n",
    "    original_size = pixels.size\n",
    "    compressed_size = len(rle_result)\n",
    "    compression_ratio = calculate_compression_ratio(original_size, compressed_size)\n",
    "\n",
    "    # Print results\n",
    "    print(f\"\\n🔹 Black & White Image: {image_path}\")\n",
    "    print(f\"  Original Size: {original_size} pixels\")\n",
    "    print(f\"  Compressed Size: {compressed_size} RLE elements\")\n",
    "    print(f\"  Compression Ratio: {compression_ratio:.2f}\")"
   ]
  },
  {
   "cell_type": "code",
   "execution_count": 8,
   "metadata": {},
   "outputs": [],
   "source": [
    "def process_color_image(image_path):\n",
    "    \"\"\"Process a color image using RLE on each channel (B, G, R).\"\"\"\n",
    "    img = cv2.imread(image_path, cv2.IMREAD_COLOR)  # Load as color image\n",
    "    if img is None:\n",
    "        print(f\"Error: Could not load {image_path}\")\n",
    "        return\n",
    "\n",
    "    # Split into color channels\n",
    "    b_channel, g_channel, r_channel = cv2.split(img)\n",
    "\n",
    "    # Apply RLE to each channel\n",
    "    rle_b = run_length_encoding(b_channel.flatten())\n",
    "    rle_g = run_length_encoding(g_channel.flatten())\n",
    "    rle_r = run_length_encoding(r_channel.flatten())\n",
    "\n",
    "    # Compute compression ratio\n",
    "    original_size = img.size  # Total pixels * 3 channels\n",
    "    compressed_size = len(rle_b) + len(rle_g) + len(rle_r)  # Sum of all RLE elements\n",
    "    compression_ratio = calculate_compression_ratio(original_size, compressed_size)\n",
    "\n",
    "    # Print results\n",
    "    print(f\"\\n🔹 Color Image: {image_path}\")\n",
    "    print(f\"  Original Size: {original_size} pixels × 3 channels\")\n",
    "    print(f\"  Compressed Size: {compressed_size} RLE elements\")\n",
    "    print(f\"  Compression Ratio: {compression_ratio:.2f}\")\n",
    "    print(f\"  Sample RLE (B-Channel): {rle_b[:10]} ...\")\n",
    "    print(f\"  Sample RLE (G-Channel): {rle_g[:10]} ...\")\n",
    "    print(f\"  Sample RLE (R-Channel): {rle_r[:10]} ...\")"
   ]
  },
  {
   "cell_type": "code",
   "execution_count": 9,
   "metadata": {},
   "outputs": [],
   "source": [
    "bnw_images = [BNW1, BNW2]\n",
    "grayscale_images = [GS1, GS2]\n",
    "color_images = [C1, C2]"
   ]
  },
  {
   "cell_type": "code",
   "execution_count": 10,
   "metadata": {},
   "outputs": [
    {
     "name": "stdout",
     "output_type": "stream",
     "text": [
      "\n",
      "🔹 Grayscale Image: C:\\Users\\user\\Desktop\\Image Compression\\media\\grayscale1-50.jpeg\n",
      "  Original Size: 2500 pixels\n",
      "  Compressed Size: 2492 RLE elements\n",
      "  Compression Ratio: 1.00\n",
      "\n",
      "🔹 Grayscale Image: C:\\Users\\user\\Desktop\\Image Compression\\media\\grayscale2-100.jpeg\n",
      "  Original Size: 10000 pixels\n",
      "  Compressed Size: 9921 RLE elements\n",
      "  Compression Ratio: 1.01\n"
     ]
    }
   ],
   "source": [
    "for img_path in grayscale_images:\n",
    "    process_grayscale_image(img_path)"
   ]
  },
  {
   "cell_type": "code",
   "execution_count": 11,
   "metadata": {},
   "outputs": [
    {
     "name": "stdout",
     "output_type": "stream",
     "text": [
      "\n",
      "🔹 Black & White Image: C:\\Users\\user\\Desktop\\Image Compression\\media\\bnw200.jpg\n",
      "  Original Size: 1048576 pixels\n",
      "  Compressed Size: 66039 RLE elements\n",
      "  Compression Ratio: 15.88\n",
      "\n",
      "🔹 Black & White Image: C:\\Users\\user\\Desktop\\Image Compression\\media\\bnw300.jpg\n",
      "  Original Size: 1048576 pixels\n",
      "  Compressed Size: 98602 RLE elements\n",
      "  Compression Ratio: 10.63\n"
     ]
    }
   ],
   "source": [
    "for img_path in bnw_images:\n",
    "    process_bw_image(img_path)"
   ]
  },
  {
   "cell_type": "code",
   "execution_count": 12,
   "metadata": {},
   "outputs": [
    {
     "name": "stdout",
     "output_type": "stream",
     "text": [
      "\n",
      "🔹 Color Image: C:\\Users\\user\\Desktop\\Image Compression\\media\\color-400.jpeg\n",
      "  Original Size: 480000 pixels × 3 channels\n",
      "  Compressed Size: 369192 RLE elements\n",
      "  Compression Ratio: 1.30\n",
      "  Sample RLE (B-Channel): [np.uint8(226), np.uint8(225), (np.uint8(224), 3), np.uint8(223), np.uint8(222), np.uint8(222), (np.uint8(221), 4), (np.uint8(220), 3), (np.uint8(219), 4), np.uint8(218)] ...\n",
      "  Sample RLE (G-Channel): [np.uint8(153), np.uint8(152), (np.uint8(151), 3), np.uint8(150), np.uint8(149), np.uint8(149), (np.uint8(148), 4), (np.uint8(147), 3), (np.uint8(146), 4), np.uint8(145)] ...\n",
      "  Sample RLE (R-Channel): [np.uint8(101), np.uint8(100), (np.uint8(99), 3), np.uint8(98), np.uint8(97), np.uint8(97), (np.uint8(96), 4), (np.uint8(95), 3), (np.uint8(94), 4), np.uint8(93)] ...\n",
      "\n",
      "🔹 Color Image: C:\\Users\\user\\Desktop\\Image Compression\\media\\color500.jpg\n",
      "  Original Size: 703188 pixels × 3 channels\n",
      "  Compressed Size: 309182 RLE elements\n",
      "  Compression Ratio: 2.27\n",
      "  Sample RLE (B-Channel): [(np.uint8(50), 24), (np.uint8(51), 32), (np.uint8(53), 8), (np.uint8(54), 24), (np.uint8(56), 32), (np.uint8(58), 24), (np.uint8(59), 24), (np.uint8(60), 16), (np.uint8(61), 16), (np.uint8(62), 8)] ...\n",
      "  Sample RLE (G-Channel): [(np.uint8(36), 24), (np.uint8(38), 32), (np.uint8(37), 8), (np.uint8(38), 8), (np.uint8(39), 16), (np.uint8(41), 24), (np.uint8(42), 32), (np.uint8(43), 24), (np.uint8(44), 16), (np.uint8(45), 16)] ...\n",
      "  Sample RLE (R-Channel): [(np.uint8(0), 64), (np.uint8(1), 8), (np.uint8(0), 16), (np.uint8(2), 24), (np.uint8(0), 32), (np.uint8(1), 24), (np.uint8(2), 16), (np.uint8(0), 24), np.uint8(12), np.uint8(8)] ...\n"
     ]
    }
   ],
   "source": [
    "\n",
    "for img_path in color_images:\n",
    "    process_color_image(img_path)"
   ]
  },
  {
   "cell_type": "code",
   "execution_count": null,
   "metadata": {},
   "outputs": [],
   "source": []
  }
 ],
 "metadata": {
  "kernelspec": {
   "display_name": "Python 3",
   "language": "python",
   "name": "python3"
  },
  "language_info": {
   "codemirror_mode": {
    "name": "ipython",
    "version": 3
   },
   "file_extension": ".py",
   "mimetype": "text/x-python",
   "name": "python",
   "nbconvert_exporter": "python",
   "pygments_lexer": "ipython3",
   "version": "3.12.5"
  }
 },
 "nbformat": 4,
 "nbformat_minor": 2
}
